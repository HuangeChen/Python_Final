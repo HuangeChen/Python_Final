{
 "cells": [
  {
   "cell_type": "markdown",
   "metadata": {},
   "source": [
    "# Part1 TOP 15 Highest Paid"
   ]
  },
  {
   "cell_type": "code",
   "execution_count": 1,
   "metadata": {
    "collapsed": true
   },
   "outputs": [],
   "source": [
    "import pandas as pd\n",
    "import numpy as np"
   ]
  },
  {
   "cell_type": "code",
   "execution_count": 2,
   "metadata": {
    "collapsed": true
   },
   "outputs": [],
   "source": [
    "df_H1B=pd.read_csv(\"/Users/huangechen/Desktop/final/data/h1b_Petitions.csv\")"
   ]
  },
  {
   "cell_type": "code",
   "execution_count": 3,
   "metadata": {
    "collapsed": false
   },
   "outputs": [
    {
     "data": {
      "text/html": [
       "<div>\n",
       "<table border=\"1\" class=\"dataframe\">\n",
       "  <thead>\n",
       "    <tr style=\"text-align: right;\">\n",
       "      <th></th>\n",
       "      <th>Unnamed: 0</th>\n",
       "      <th>CASE_STATUS</th>\n",
       "      <th>EMPLOYER_NAME</th>\n",
       "      <th>SOC_NAME</th>\n",
       "      <th>JOB_TITLE</th>\n",
       "      <th>FULL_TIME_POSITION</th>\n",
       "      <th>PREVAILING_WAGE</th>\n",
       "      <th>YEAR</th>\n",
       "      <th>WORKSITE</th>\n",
       "      <th>lon</th>\n",
       "      <th>lat</th>\n",
       "    </tr>\n",
       "  </thead>\n",
       "  <tbody>\n",
       "    <tr>\n",
       "      <th>0</th>\n",
       "      <td>1</td>\n",
       "      <td>CERTIFIED-WITHDRAWN</td>\n",
       "      <td>UNIVERSITY OF MICHIGAN</td>\n",
       "      <td>BIOCHEMISTS AND BIOPHYSICISTS</td>\n",
       "      <td>POSTDOCTORAL RESEARCH FELLOW</td>\n",
       "      <td>N</td>\n",
       "      <td>36067.0</td>\n",
       "      <td>2016.0</td>\n",
       "      <td>ANN ARBOR, MICHIGAN</td>\n",
       "      <td>-83.743038</td>\n",
       "      <td>42.280826</td>\n",
       "    </tr>\n",
       "    <tr>\n",
       "      <th>1</th>\n",
       "      <td>2</td>\n",
       "      <td>CERTIFIED-WITHDRAWN</td>\n",
       "      <td>GOODMAN NETWORKS, INC.</td>\n",
       "      <td>CHIEF EXECUTIVES</td>\n",
       "      <td>CHIEF OPERATING OFFICER</td>\n",
       "      <td>Y</td>\n",
       "      <td>242674.0</td>\n",
       "      <td>2016.0</td>\n",
       "      <td>PLANO, TEXAS</td>\n",
       "      <td>-96.698886</td>\n",
       "      <td>33.019843</td>\n",
       "    </tr>\n",
       "    <tr>\n",
       "      <th>2</th>\n",
       "      <td>3</td>\n",
       "      <td>CERTIFIED-WITHDRAWN</td>\n",
       "      <td>PORTS AMERICA GROUP, INC.</td>\n",
       "      <td>CHIEF EXECUTIVES</td>\n",
       "      <td>CHIEF PROCESS OFFICER</td>\n",
       "      <td>Y</td>\n",
       "      <td>193066.0</td>\n",
       "      <td>2016.0</td>\n",
       "      <td>JERSEY CITY, NEW JERSEY</td>\n",
       "      <td>-74.077642</td>\n",
       "      <td>40.728158</td>\n",
       "    </tr>\n",
       "    <tr>\n",
       "      <th>3</th>\n",
       "      <td>4</td>\n",
       "      <td>CERTIFIED-WITHDRAWN</td>\n",
       "      <td>GATES CORPORATION, A WHOLLY-OWNED SUBSIDIARY O...</td>\n",
       "      <td>CHIEF EXECUTIVES</td>\n",
       "      <td>REGIONAL PRESIDEN, AMERICAS</td>\n",
       "      <td>Y</td>\n",
       "      <td>220314.0</td>\n",
       "      <td>2016.0</td>\n",
       "      <td>DENVER, COLORADO</td>\n",
       "      <td>-104.990251</td>\n",
       "      <td>39.739236</td>\n",
       "    </tr>\n",
       "    <tr>\n",
       "      <th>4</th>\n",
       "      <td>5</td>\n",
       "      <td>WITHDRAWN</td>\n",
       "      <td>PEABODY INVESTMENTS CORP.</td>\n",
       "      <td>CHIEF EXECUTIVES</td>\n",
       "      <td>PRESIDENT MONGOLIA AND INDIA</td>\n",
       "      <td>Y</td>\n",
       "      <td>157518.4</td>\n",
       "      <td>2016.0</td>\n",
       "      <td>ST. LOUIS, MISSOURI</td>\n",
       "      <td>-90.199404</td>\n",
       "      <td>38.627003</td>\n",
       "    </tr>\n",
       "  </tbody>\n",
       "</table>\n",
       "</div>"
      ],
      "text/plain": [
       "   Unnamed: 0          CASE_STATUS  \\\n",
       "0           1  CERTIFIED-WITHDRAWN   \n",
       "1           2  CERTIFIED-WITHDRAWN   \n",
       "2           3  CERTIFIED-WITHDRAWN   \n",
       "3           4  CERTIFIED-WITHDRAWN   \n",
       "4           5            WITHDRAWN   \n",
       "\n",
       "                                       EMPLOYER_NAME  \\\n",
       "0                             UNIVERSITY OF MICHIGAN   \n",
       "1                             GOODMAN NETWORKS, INC.   \n",
       "2                          PORTS AMERICA GROUP, INC.   \n",
       "3  GATES CORPORATION, A WHOLLY-OWNED SUBSIDIARY O...   \n",
       "4                          PEABODY INVESTMENTS CORP.   \n",
       "\n",
       "                        SOC_NAME                     JOB_TITLE  \\\n",
       "0  BIOCHEMISTS AND BIOPHYSICISTS  POSTDOCTORAL RESEARCH FELLOW   \n",
       "1               CHIEF EXECUTIVES       CHIEF OPERATING OFFICER   \n",
       "2               CHIEF EXECUTIVES         CHIEF PROCESS OFFICER   \n",
       "3               CHIEF EXECUTIVES   REGIONAL PRESIDEN, AMERICAS   \n",
       "4               CHIEF EXECUTIVES  PRESIDENT MONGOLIA AND INDIA   \n",
       "\n",
       "  FULL_TIME_POSITION  PREVAILING_WAGE    YEAR                 WORKSITE  \\\n",
       "0                  N          36067.0  2016.0      ANN ARBOR, MICHIGAN   \n",
       "1                  Y         242674.0  2016.0             PLANO, TEXAS   \n",
       "2                  Y         193066.0  2016.0  JERSEY CITY, NEW JERSEY   \n",
       "3                  Y         220314.0  2016.0         DENVER, COLORADO   \n",
       "4                  Y         157518.4  2016.0      ST. LOUIS, MISSOURI   \n",
       "\n",
       "          lon        lat  \n",
       "0  -83.743038  42.280826  \n",
       "1  -96.698886  33.019843  \n",
       "2  -74.077642  40.728158  \n",
       "3 -104.990251  39.739236  \n",
       "4  -90.199404  38.627003  "
      ]
     },
     "execution_count": 3,
     "metadata": {},
     "output_type": "execute_result"
    }
   ],
   "source": [
    "df_H1B.head()"
   ]
  },
  {
   "cell_type": "code",
   "execution_count": 4,
   "metadata": {
    "collapsed": false
   },
   "outputs": [
    {
     "data": {
      "text/plain": [
       "60000.0    10354\n",
       "55245.0     6865\n",
       "62566.0     6655\n",
       "58053.0     5755\n",
       "52499.0     5561\n",
       "Name: PREVAILING_WAGE, dtype: int64"
      ]
     },
     "execution_count": 4,
     "metadata": {},
     "output_type": "execute_result"
    }
   ],
   "source": [
    "df_H1B.PREVAILING_WAGE.value_counts().sort_values(ascending=False).head()"
   ]
  },
  {
   "cell_type": "code",
   "execution_count": 5,
   "metadata": {
    "collapsed": false
   },
   "outputs": [
    {
     "data": {
      "text/plain": [
       "146998.4319151606"
      ]
     },
     "execution_count": 5,
     "metadata": {},
     "output_type": "execute_result"
    }
   ],
   "source": [
    "df_H1B.PREVAILING_WAGE.mean()"
   ]
  },
  {
   "cell_type": "code",
   "execution_count": 6,
   "metadata": {
    "collapsed": true
   },
   "outputs": [],
   "source": [
    "%matplotlib inline"
   ]
  },
  {
   "cell_type": "code",
   "execution_count": 7,
   "metadata": {
    "collapsed": false
   },
   "outputs": [
    {
     "data": {
      "image/png": "[encoded data removed]",
      "text/plain": [
       "<matplotlib.figure.Figure at 0x11a849860>"
      ]
     },
     "metadata": {},
     "output_type": "display_data"
    }
   ],
   "source": [
    "avgWagePerEmpr = df_H1B.groupby(['EMPLOYER_NAME']).mean()['PREVAILING_WAGE'].nlargest(15).plot(kind='bar')"
   ]
  },
  {
   "cell_type": "markdown",
   "metadata": {},
   "source": [
    "# Part 2\n",
    "highest paid employer in each Job_title by calculating mean of PREVAILING_WAGE for every employer."
   ]
  },
  {
   "cell_type": "code",
   "execution_count": 8,
   "metadata": {
    "collapsed": true
   },
   "outputs": [],
   "source": [
    "temp_df = round(df_H1B.groupby(['EMPLOYER_NAME','JOB_TITLE','WORKSITE'], as_index=False)['PREVAILING_WAGE'].mean(),2)"
   ]
  },
  {
   "cell_type": "code",
   "execution_count": 9,
   "metadata": {
    "collapsed": false
   },
   "outputs": [
    {
     "data": {
      "text/html": [
       "<div>\n",
       "<table border=\"1\" class=\"dataframe\">\n",
       "  <thead>\n",
       "    <tr style=\"text-align: right;\">\n",
       "      <th></th>\n",
       "      <th>EMPLOYER_NAME</th>\n",
       "      <th>JOB_TITLE</th>\n",
       "      <th>WORKSITE</th>\n",
       "      <th>PREVAILING_WAGE</th>\n",
       "    </tr>\n",
       "  </thead>\n",
       "  <tbody>\n",
       "    <tr>\n",
       "      <th>0</th>\n",
       "      <td>\"EXCELLENT COMPUTING DISTRIBUTORS INC\"</td>\n",
       "      <td>CONTROLLER</td>\n",
       "      <td>MIAMI, FLORIDA</td>\n",
       "      <td>78499.00</td>\n",
       "    </tr>\n",
       "    <tr>\n",
       "      <th>1</th>\n",
       "      <td>\"I HAVE A DREAM\" FOUNDATION</td>\n",
       "      <td>DIRECTOR OF FINANCE AND ADMINISTRATION</td>\n",
       "      <td>NEW YORK, NEW YORK</td>\n",
       "      <td>100661.50</td>\n",
       "    </tr>\n",
       "    <tr>\n",
       "      <th>2</th>\n",
       "      <td>\"K\" LINE AMERICA</td>\n",
       "      <td>SENIOR APPLICATIONS DEVELOPER</td>\n",
       "      <td>RICHMOND, VIRGINIA</td>\n",
       "      <td>91776.53</td>\n",
       "    </tr>\n",
       "    <tr>\n",
       "      <th>3</th>\n",
       "      <td>\"K\" LINE AMERICA</td>\n",
       "      <td>SYSTEMS ANALYST</td>\n",
       "      <td>RICHMOND, VIRGINIA</td>\n",
       "      <td>86975.20</td>\n",
       "    </tr>\n",
       "    <tr>\n",
       "      <th>4</th>\n",
       "      <td>\"K\" LINE AMERICA, INC.</td>\n",
       "      <td>APPLICATION DEVELOPER</td>\n",
       "      <td>RICHMOND, VIRGINIA</td>\n",
       "      <td>62962.00</td>\n",
       "    </tr>\n",
       "  </tbody>\n",
       "</table>\n",
       "</div>"
      ],
      "text/plain": [
       "                            EMPLOYER_NAME  \\\n",
       "0  \"EXCELLENT COMPUTING DISTRIBUTORS INC\"   \n",
       "1             \"I HAVE A DREAM\" FOUNDATION   \n",
       "2                        \"K\" LINE AMERICA   \n",
       "3                        \"K\" LINE AMERICA   \n",
       "4                  \"K\" LINE AMERICA, INC.   \n",
       "\n",
       "                                JOB_TITLE            WORKSITE  PREVAILING_WAGE  \n",
       "0                              CONTROLLER      MIAMI, FLORIDA         78499.00  \n",
       "1  DIRECTOR OF FINANCE AND ADMINISTRATION  NEW YORK, NEW YORK        100661.50  \n",
       "2           SENIOR APPLICATIONS DEVELOPER  RICHMOND, VIRGINIA         91776.53  \n",
       "3                         SYSTEMS ANALYST  RICHMOND, VIRGINIA         86975.20  \n",
       "4                   APPLICATION DEVELOPER  RICHMOND, VIRGINIA         62962.00  "
      ]
     },
     "execution_count": 9,
     "metadata": {},
     "output_type": "execute_result"
    }
   ],
   "source": [
    "temp_df.head()"
   ]
  },
  {
   "cell_type": "code",
   "execution_count": 10,
   "metadata": {
    "collapsed": false
   },
   "outputs": [
    {
     "data": {
      "text/html": [
       "<div>\n",
       "<table border=\"1\" class=\"dataframe\">\n",
       "  <thead>\n",
       "    <tr style=\"text-align: right;\">\n",
       "      <th></th>\n",
       "      <th></th>\n",
       "      <th>EMPLOYER_NAME</th>\n",
       "      <th>WORKSITE</th>\n",
       "      <th>PREVAILING_WAGE</th>\n",
       "    </tr>\n",
       "    <tr>\n",
       "      <th>JOB_TITLE</th>\n",
       "      <th></th>\n",
       "      <th></th>\n",
       "      <th></th>\n",
       "      <th></th>\n",
       "    </tr>\n",
       "  </thead>\n",
       "  <tbody>\n",
       "    <tr>\n",
       "      <th>\"BUSINESS SYSTEM ANALYST</th>\n",
       "      <th>578660</th>\n",
       "      <td>IONTECH CONSULTING LLC</td>\n",
       "      <td>MEMPHIS, TENNESSEE</td>\n",
       "      <td>49421.0</td>\n",
       "    </tr>\n",
       "    <tr>\n",
       "      <th>\"SALES MANAGER</th>\n",
       "      <th>136131</th>\n",
       "      <td>BEAUTY TRENDS, INC.</td>\n",
       "      <td>ST. LOUIS, MISSOURI</td>\n",
       "      <td>41808.0</td>\n",
       "    </tr>\n",
       "    <tr>\n",
       "      <th>\"TEST\" SENIOR SCIENTIST</th>\n",
       "      <th>828109</th>\n",
       "      <td>PFIZER INC</td>\n",
       "      <td>CHESTERFIELD, MISSOURI</td>\n",
       "      <td>83325.0</td>\n",
       "    </tr>\n",
       "    <tr>\n",
       "      <th>\"TRAIN THE TRAINER\" PROGRAM SUPERVISOR</th>\n",
       "      <th>483656</th>\n",
       "      <td>HOME INTEGRATION, INC.</td>\n",
       "      <td>SHAWNEE, OKLAHOMA</td>\n",
       "      <td>28538.0</td>\n",
       "    </tr>\n",
       "    <tr>\n",
       "      <th>'ACCOUNTANT</th>\n",
       "      <th>980274</th>\n",
       "      <td>SOUTH BAY BRIGHT FUTURE, INC.</td>\n",
       "      <td>HARBOR CITY, CALIFORNIA</td>\n",
       "      <td>47382.4</td>\n",
       "    </tr>\n",
       "  </tbody>\n",
       "</table>\n",
       "</div>"
      ],
      "text/plain": [
       "                                                               EMPLOYER_NAME  \\\n",
       "JOB_TITLE                                                                      \n",
       "\"BUSINESS SYSTEM ANALYST               578660         IONTECH CONSULTING LLC   \n",
       "\"SALES MANAGER                         136131            BEAUTY TRENDS, INC.   \n",
       "\"TEST\" SENIOR SCIENTIST                828109                     PFIZER INC   \n",
       "\"TRAIN THE TRAINER\" PROGRAM SUPERVISOR 483656         HOME INTEGRATION, INC.   \n",
       "'ACCOUNTANT                            980274  SOUTH BAY BRIGHT FUTURE, INC.   \n",
       "\n",
       "                                                              WORKSITE  \\\n",
       "JOB_TITLE                                                                \n",
       "\"BUSINESS SYSTEM ANALYST               578660       MEMPHIS, TENNESSEE   \n",
       "\"SALES MANAGER                         136131      ST. LOUIS, MISSOURI   \n",
       "\"TEST\" SENIOR SCIENTIST                828109   CHESTERFIELD, MISSOURI   \n",
       "\"TRAIN THE TRAINER\" PROGRAM SUPERVISOR 483656        SHAWNEE, OKLAHOMA   \n",
       "'ACCOUNTANT                            980274  HARBOR CITY, CALIFORNIA   \n",
       "\n",
       "                                               PREVAILING_WAGE  \n",
       "JOB_TITLE                                                       \n",
       "\"BUSINESS SYSTEM ANALYST               578660          49421.0  \n",
       "\"SALES MANAGER                         136131          41808.0  \n",
       "\"TEST\" SENIOR SCIENTIST                828109          83325.0  \n",
       "\"TRAIN THE TRAINER\" PROGRAM SUPERVISOR 483656          28538.0  \n",
       "'ACCOUNTANT                            980274          47382.4  "
      ]
     },
     "execution_count": 10,
     "metadata": {},
     "output_type": "execute_result"
    }
   ],
   "source": [
    "sorted_df = temp_df.groupby(['JOB_TITLE'])[['EMPLOYER_NAME','WORKSITE','PREVAILING_WAGE']].apply(lambda x:x.sort_values('PREVAILING_WAGE', ascending=False))\n",
    "sorted_df.head()"
   ]
  },
  {
   "cell_type": "code",
   "execution_count": 11,
   "metadata": {
    "collapsed": false
   },
   "outputs": [
    {
     "data": {
      "text/html": [
       "<div>\n",
       "<table border=\"1\" class=\"dataframe\">\n",
       "  <thead>\n",
       "    <tr style=\"text-align: right;\">\n",
       "      <th></th>\n",
       "      <th>EMPLOYER_NAME</th>\n",
       "      <th>WORKSITE</th>\n",
       "      <th>PREVAILING_WAGE</th>\n",
       "    </tr>\n",
       "    <tr>\n",
       "      <th>JOB_TITLE</th>\n",
       "      <th></th>\n",
       "      <th></th>\n",
       "      <th></th>\n",
       "    </tr>\n",
       "  </thead>\n",
       "  <tbody>\n",
       "    <tr>\n",
       "      <th>\"BUSINESS SYSTEM ANALYST</th>\n",
       "      <td>IONTECH CONSULTING LLC</td>\n",
       "      <td>MEMPHIS, TENNESSEE</td>\n",
       "      <td>49421.0</td>\n",
       "    </tr>\n",
       "    <tr>\n",
       "      <th>\"SALES MANAGER</th>\n",
       "      <td>BEAUTY TRENDS, INC.</td>\n",
       "      <td>ST. LOUIS, MISSOURI</td>\n",
       "      <td>41808.0</td>\n",
       "    </tr>\n",
       "    <tr>\n",
       "      <th>\"TEST\" SENIOR SCIENTIST</th>\n",
       "      <td>PFIZER INC</td>\n",
       "      <td>CHESTERFIELD, MISSOURI</td>\n",
       "      <td>83325.0</td>\n",
       "    </tr>\n",
       "    <tr>\n",
       "      <th>\"TRAIN THE TRAINER\" PROGRAM SUPERVISOR</th>\n",
       "      <td>HOME INTEGRATION, INC.</td>\n",
       "      <td>SHAWNEE, OKLAHOMA</td>\n",
       "      <td>28538.0</td>\n",
       "    </tr>\n",
       "    <tr>\n",
       "      <th>'ACCOUNTANT</th>\n",
       "      <td>SOUTH BAY BRIGHT FUTURE, INC.</td>\n",
       "      <td>HARBOR CITY, CALIFORNIA</td>\n",
       "      <td>47382.4</td>\n",
       "    </tr>\n",
       "  </tbody>\n",
       "</table>\n",
       "</div>"
      ],
      "text/plain": [
       "                                                        EMPLOYER_NAME  \\\n",
       "JOB_TITLE                                                               \n",
       "\"BUSINESS SYSTEM ANALYST                       IONTECH CONSULTING LLC   \n",
       "\"SALES MANAGER                                    BEAUTY TRENDS, INC.   \n",
       "\"TEST\" SENIOR SCIENTIST                                    PFIZER INC   \n",
       "\"TRAIN THE TRAINER\" PROGRAM SUPERVISOR         HOME INTEGRATION, INC.   \n",
       "'ACCOUNTANT                             SOUTH BAY BRIGHT FUTURE, INC.   \n",
       "\n",
       "                                                       WORKSITE  \\\n",
       "JOB_TITLE                                                         \n",
       "\"BUSINESS SYSTEM ANALYST                     MEMPHIS, TENNESSEE   \n",
       "\"SALES MANAGER                              ST. LOUIS, MISSOURI   \n",
       "\"TEST\" SENIOR SCIENTIST                  CHESTERFIELD, MISSOURI   \n",
       "\"TRAIN THE TRAINER\" PROGRAM SUPERVISOR        SHAWNEE, OKLAHOMA   \n",
       "'ACCOUNTANT                             HARBOR CITY, CALIFORNIA   \n",
       "\n",
       "                                        PREVAILING_WAGE  \n",
       "JOB_TITLE                                                \n",
       "\"BUSINESS SYSTEM ANALYST                        49421.0  \n",
       "\"SALES MANAGER                                  41808.0  \n",
       "\"TEST\" SENIOR SCIENTIST                         83325.0  \n",
       "\"TRAIN THE TRAINER\" PROGRAM SUPERVISOR          28538.0  \n",
       "'ACCOUNTANT                                     47382.4  "
      ]
     },
     "execution_count": 11,
     "metadata": {},
     "output_type": "execute_result"
    }
   ],
   "source": [
    "sorted_df = sorted_df.reset_index(level=1, drop=True)\n",
    "sorted_df.head()"
   ]
  },
  {
   "cell_type": "code",
   "execution_count": 12,
   "metadata": {
    "collapsed": true
   },
   "outputs": [],
   "source": [
    "final_output_df = sorted_df.reset_index()"
   ]
  },
  {
   "cell_type": "code",
   "execution_count": 13,
   "metadata": {
    "collapsed": false
   },
   "outputs": [
    {
     "data": {
      "text/html": [
       "<div>\n",
       "<table border=\"1\" class=\"dataframe\">\n",
       "  <thead>\n",
       "    <tr style=\"text-align: right;\">\n",
       "      <th></th>\n",
       "      <th>JOB_TITLE</th>\n",
       "      <th>EMPLOYER_NAME</th>\n",
       "      <th>WORKSITE</th>\n",
       "      <th>PREVAILING_WAGE</th>\n",
       "    </tr>\n",
       "  </thead>\n",
       "  <tbody>\n",
       "    <tr>\n",
       "      <th>0</th>\n",
       "      <td>\"BUSINESS SYSTEM ANALYST</td>\n",
       "      <td>IONTECH CONSULTING LLC</td>\n",
       "      <td>MEMPHIS, TENNESSEE</td>\n",
       "      <td>49421.0</td>\n",
       "    </tr>\n",
       "    <tr>\n",
       "      <th>1</th>\n",
       "      <td>\"SALES MANAGER</td>\n",
       "      <td>BEAUTY TRENDS, INC.</td>\n",
       "      <td>ST. LOUIS, MISSOURI</td>\n",
       "      <td>41808.0</td>\n",
       "    </tr>\n",
       "    <tr>\n",
       "      <th>2</th>\n",
       "      <td>\"TEST\" SENIOR SCIENTIST</td>\n",
       "      <td>PFIZER INC</td>\n",
       "      <td>CHESTERFIELD, MISSOURI</td>\n",
       "      <td>83325.0</td>\n",
       "    </tr>\n",
       "    <tr>\n",
       "      <th>3</th>\n",
       "      <td>\"TRAIN THE TRAINER\" PROGRAM SUPERVISOR</td>\n",
       "      <td>HOME INTEGRATION, INC.</td>\n",
       "      <td>SHAWNEE, OKLAHOMA</td>\n",
       "      <td>28538.0</td>\n",
       "    </tr>\n",
       "    <tr>\n",
       "      <th>4</th>\n",
       "      <td>'ACCOUNTANT</td>\n",
       "      <td>SOUTH BAY BRIGHT FUTURE, INC.</td>\n",
       "      <td>HARBOR CITY, CALIFORNIA</td>\n",
       "      <td>47382.4</td>\n",
       "    </tr>\n",
       "    <tr>\n",
       "      <th>5</th>\n",
       "      <td>'COMPUTER SYSTEMS ANALYSTS</td>\n",
       "      <td>ABIT W-SERVICES, INC.</td>\n",
       "      <td>PLAINSBORO, NEW JERSEY</td>\n",
       "      <td>40000.0</td>\n",
       "    </tr>\n",
       "    <tr>\n",
       "      <th>6</th>\n",
       "      <td>'DIRECTOR OF USER ACQUISITION</td>\n",
       "      <td>SOHOOS, INC.</td>\n",
       "      <td>SAN FRANCISCO, CALIFORNIA</td>\n",
       "      <td>156354.0</td>\n",
       "    </tr>\n",
       "    <tr>\n",
       "      <th>7</th>\n",
       "      <td>'OF COUNSEL' TRANSACTION ATTORNEY</td>\n",
       "      <td>LICATA &amp; ASSOCIATES CO., LPA</td>\n",
       "      <td>INDEPENDENCE, OHIO</td>\n",
       "      <td>59176.0</td>\n",
       "    </tr>\n",
       "    <tr>\n",
       "      <th>8</th>\n",
       "      <td>( CONSULTANT) ETL DEVELOPER</td>\n",
       "      <td>INFORMATION CONTROL COMPANY LLC</td>\n",
       "      <td>COLUMBUS, OHIO</td>\n",
       "      <td>81494.0</td>\n",
       "    </tr>\n",
       "    <tr>\n",
       "      <th>9</th>\n",
       "      <td>(2ND YEAR) ANALYST</td>\n",
       "      <td>CANACCORD GENUITY INC.</td>\n",
       "      <td>NEW YORK, NEW YORK</td>\n",
       "      <td>95160.0</td>\n",
       "    </tr>\n",
       "  </tbody>\n",
       "</table>\n",
       "</div>"
      ],
      "text/plain": [
       "                                JOB_TITLE                    EMPLOYER_NAME  \\\n",
       "0                \"BUSINESS SYSTEM ANALYST           IONTECH CONSULTING LLC   \n",
       "1                          \"SALES MANAGER              BEAUTY TRENDS, INC.   \n",
       "2                 \"TEST\" SENIOR SCIENTIST                       PFIZER INC   \n",
       "3  \"TRAIN THE TRAINER\" PROGRAM SUPERVISOR           HOME INTEGRATION, INC.   \n",
       "4                             'ACCOUNTANT    SOUTH BAY BRIGHT FUTURE, INC.   \n",
       "5              'COMPUTER SYSTEMS ANALYSTS            ABIT W-SERVICES, INC.   \n",
       "6           'DIRECTOR OF USER ACQUISITION                     SOHOOS, INC.   \n",
       "7       'OF COUNSEL' TRANSACTION ATTORNEY     LICATA & ASSOCIATES CO., LPA   \n",
       "8             ( CONSULTANT) ETL DEVELOPER  INFORMATION CONTROL COMPANY LLC   \n",
       "9                      (2ND YEAR) ANALYST           CANACCORD GENUITY INC.   \n",
       "\n",
       "                    WORKSITE  PREVAILING_WAGE  \n",
       "0         MEMPHIS, TENNESSEE          49421.0  \n",
       "1        ST. LOUIS, MISSOURI          41808.0  \n",
       "2     CHESTERFIELD, MISSOURI          83325.0  \n",
       "3          SHAWNEE, OKLAHOMA          28538.0  \n",
       "4    HARBOR CITY, CALIFORNIA          47382.4  \n",
       "5     PLAINSBORO, NEW JERSEY          40000.0  \n",
       "6  SAN FRANCISCO, CALIFORNIA         156354.0  \n",
       "7         INDEPENDENCE, OHIO          59176.0  \n",
       "8             COLUMBUS, OHIO          81494.0  \n",
       "9         NEW YORK, NEW YORK          95160.0  "
      ]
     },
     "execution_count": 13,
     "metadata": {},
     "output_type": "execute_result"
    }
   ],
   "source": [
    "\n",
    "final_output_df.head(10)"
   ]
  },
  {
   "cell_type": "code",
   "execution_count": 14,
   "metadata": {
    "collapsed": false
   },
   "outputs": [],
   "source": [
    "final_output_df.to_csv('/Users/huangechen/Desktop/final/output/ANA_3_Salary.csv', index=False)"
   ]
  },
  {
   "cell_type": "code",
   "execution_count": null,
   "metadata": {
    "collapsed": true
   },
   "outputs": [],
   "source": []
  }
 ],
 "metadata": {
  "kernelspec": {
   "display_name": "Python 3",
   "language": "python",
   "name": "python3"
  },
  "language_info": {
   "codemirror_mode": {
    "name": "ipython",
    "version": 3
   },
   "file_extension": ".py",
   "mimetype": "text/x-python",
   "name": "python",
   "nbconvert_exporter": "python",
   "pygments_lexer": "ipython3",
   "version": "3.6.0"
  }
 },
 "nbformat": 4,
 "nbformat_minor": 2
}
